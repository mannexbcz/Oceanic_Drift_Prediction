{
 "cells": [
  {
   "cell_type": "code",
   "execution_count": 1,
   "metadata": {},
   "outputs": [],
   "source": [
    "import pickle\n",
    "\n",
    "with open(\"/data/manon/MasterThesis/NOAA/training_files_1000_new.pkl\", \"rb\") as fp:   #Pickling\n",
    "    train_files = pickle.load(fp)\n",
    "with open(\"/data/manon/MasterThesis/NOAA/testing_files_1000_new.pkl\", \"rb\") as fp:   #Pickling\n",
    "    test_files = pickle.load(fp)\n",
    "with open(\"/data/manon/MasterThesis/NOAA/validation_files_1000_new.pkl\", \"rb\") as fp:   #Pickling\n",
    "    val_files = pickle.load(fp)\n",
    "\n",
    "all_files = train_files + test_files + val_files"
   ]
  },
  {
   "cell_type": "code",
   "execution_count": 2,
   "metadata": {},
   "outputs": [],
   "source": [
    "def convert_name_to_config(name):\n",
    "    config_name = 'config_' + name[:-4] + '.yml'\n",
    "    return config_name\n",
    "\n",
    "list_configs = [convert_name_to_config(name) for name in all_files]"
   ]
  },
  {
   "cell_type": "code",
   "execution_count": null,
   "metadata": {},
   "outputs": [],
   "source": [
    "from utils.read_data import water_interpolated, wind_interpolated, wave_interpolated, bathymetry_interpolated\n",
    "import numpy as np\n",
    "\n",
    "\n",
    "def get_water_context(path_water, lat_min, lon_min, time_init, lat_max, lon_max, points_per_degree=100):\n",
    "\n",
    "    water_u_interpolation,water_v_interpolation = water_interpolated(path_water)\n",
    "\n",
    "    npoint_lats = (lat_max-lat_min)*points_per_degree\n",
    "    npoint_lons = (lon_max-lon_min)*points_per_degree\n",
    "\n",
    "    # get grid \n",
    "    lats = np.linspace(lat_min, lat_max, npoint_lats)\n",
    "    lons = np.linspace(lon_min, lon_max, npoint_lons)\n",
    "    \n",
    "    # get tensor of interpolated values\n",
    "    context_water_u = np.zeros([72,npoint_lons, npoint_lats])\n",
    "    context_water_v = np.zeros([72,npoint_lons, npoint_lats])\n",
    "\n",
    "    for i in range(npoint_lons):\n",
    "        for j in range(npoint_lats):\n",
    "            for k in range(72):\n",
    "                context_water_u[k,i,j] = water_u_interpolation([time_init+k,0,lats[j],lons[i]])\n",
    "                context_water_v[k,i,j] = water_v_interpolation([time_init+k,0,lats[j],lons[i]])\n",
    "\n",
    "    return context_water_u, context_water_v\n",
    "\n",
    "def get_wind_context(path_wind, lat_min, lon_min, time_init, lat_max, lon_max, points_per_degree=100):\n",
    "\n",
    "    wind_u_interpolation,wind_v_interpolation = wind_interpolated(path_wind)\n",
    "    \n",
    "    npoint_lats = (lat_max-lat_min)*points_per_degree\n",
    "    npoint_lons = (lon_max-lon_min)*points_per_degree\n",
    "\n",
    "    print(npoint_lats, npoint_lons)\n",
    "\n",
    "    # get grid \n",
    "    lats = np.linspace(lat_min, lat_max, npoint_lats)\n",
    "    lons = np.linspace(lon_min, lon_max, npoint_lons)\n",
    "    \n",
    "    # get tensor of interpolated values\n",
    "    context_wind_u = np.zeros([72,npoint_lons, npoint_lats])\n",
    "    context_wind_v = np.zeros([72,npoint_lons, npoint_lats])\n",
    "    \n",
    "    for i in range(npoint_lons):\n",
    "        for j in range(npoint_lats):\n",
    "            for k in range(72):\n",
    "                context_wind_u[k,i,j] = wind_u_interpolation([time_init+k,lats[j],lons[i]])\n",
    "                context_wind_v[k,i,j] = wind_v_interpolation([time_init+k,lats[j],lons[i]])\n",
    "\n",
    "    return context_wind_u, context_wind_v\n",
    "\n",
    "\n",
    "def get_waves_context(path_waves, lat_min, lon_min, time_init, lat_max, lon_max, points_per_degree=100):\n",
    "\n",
    "    ust_interpolation,vst_interpolation = wave_interpolated(path_waves)\n",
    "    \n",
    "    npoint_lats = (lat_max-lat_min)*points_per_degree\n",
    "    npoint_lons = (lon_max-lon_min)*points_per_degree\n",
    "\n",
    "    # get grid \n",
    "    lats = np.linspace(lat_min, lat_max, npoint_lats)\n",
    "    lons = np.linspace(lon_min, lon_max, npoint_lons)\n",
    "    \n",
    "    # get tensor of interpolated values\n",
    "    context_waves_u = np.zeros([72,npoint_lons, npoint_lats])\n",
    "    context_waves_v = np.zeros([72,npoint_lons, npoint_lats])\n",
    "\n",
    "\n",
    "    for i in range(npoint_lons):\n",
    "        for j in range(npoint_lats):\n",
    "            for k in range(72):\n",
    "                context_waves_u[k,i,j] = ust_interpolation([time_init+k,lats[j],lons[i]])\n",
    "                context_waves_v[k,i,j] = vst_interpolation([time_init+k,lats[j],lons[i]])\n",
    "\n",
    "    return context_waves_u, context_waves_v\n"
   ]
  },
  {
   "cell_type": "code",
   "execution_count": 11,
   "metadata": {},
   "outputs": [],
   "source": [
    "import os\n",
    "\n",
    "def get_context(path_water, path_wind, path_waves,lat_min, lon_min, time_init, lat_max, lon_max, name_file,saving_folder,points_per_degree=100):\n",
    "\n",
    "    path_save = os.path.join(saving_folder,name_file)\n",
    "\n",
    "    '''if os.path.exists(path_save):\n",
    "        return path_save\n",
    "    else:'''\n",
    "    context_water_u, context_water_v = get_water_context(path_water, lat_min, lon_min, time_init, lat_max, lon_max, points_per_degree)\n",
    "    print('context water ok')\n",
    "    context_waves_u, context_waves_v = get_waves_context(path_waves, lat_min, lon_min, time_init, lat_max, lon_max, points_per_degree)\n",
    "    print('context waves ok')\n",
    "    context_wind_u, context_wind_v = get_wind_context(path_wind, lat_min, lon_min, time_init, lat_max, lon_max, points_per_degree)\n",
    "    print('context wind ok')\n",
    "    \n",
    "\n",
    "    #context_bathymetry, context_coasts = get_bathymetry_context(path_bathy, init_lat, init_lon, init_time, d = d_context, npoints = npoints)\n",
    "\n",
    "    # merge contextes\n",
    "    #print('Merging context')\n",
    "    context = np.stack((context_water_u,context_water_v,context_wind_u,context_wind_v,context_waves_u,context_waves_v))\n",
    "    #assert np.shape(context) == (6,npoints,npoints), f\"Wrong shape for the context: {np.shape(context)}\"\n",
    "\n",
    "    print(np.shape(context))\n",
    "\n",
    "    with open(path_save, 'wb') as f:\n",
    "        np.save(f,context)\n",
    "\n",
    "    return path_save"
   ]
  },
  {
   "cell_type": "code",
   "execution_count": 12,
   "metadata": {},
   "outputs": [
    {
     "name": "stderr",
     "output_type": "stream",
     "text": [
      "  0%|          | 0/1000 [00:00<?, ?it/s]"
     ]
    },
    {
     "name": "stdout",
     "output_type": "stream",
     "text": [
      "context water ok\n",
      "context waves ok\n",
      "30 40\n"
     ]
    },
    {
     "name": "stderr",
     "output_type": "stream",
     "text": [
      "  0%|          | 0/1000 [00:36<?, ?it/s]"
     ]
    },
    {
     "name": "stdout",
     "output_type": "stream",
     "text": [
      "context wind ok\n",
      "(6, 72, 40, 30)\n"
     ]
    },
    {
     "name": "stderr",
     "output_type": "stream",
     "text": [
      "\n"
     ]
    }
   ],
   "source": [
    "from tqdm import tqdm\n",
    "import os\n",
    "import yaml\n",
    "from utils.read_data import get_initial_position\n",
    "\n",
    "config_path = '/data/manon/MasterThesis/configs_NOAA/all_configs'\n",
    "saving_path = '/data/manon/MasterThesis/NOAA/bigcontexts'\n",
    "point_per_deg = 10\n",
    "\n",
    "for data_file in tqdm(all_files):\n",
    "    config_name = convert_name_to_config(data_file)\n",
    "    filename = 'context_' + data_file[:-4] + '.npy'\n",
    "    try: \n",
    "        #print('Processing file', data_file)\n",
    "        with open(os.path.join(config_path,config_name), 'r') as f:\n",
    "            config = yaml.safe_load(f)\n",
    "    except:\n",
    "        continue\n",
    "\n",
    "    _, init_time = get_initial_position(config['PATH_DRIFT'], NOAA = True)\n",
    "\n",
    "    final_path = get_context(config['PATH_WATER'],config['PATH_WIND'],config['PATH_WAVES'],config['min_lat'], config['min_lon'],init_time, config['max_lat'], config['max_lon'],filename, saving_path, points_per_degree=point_per_deg)\n",
    "\n",
    "    break"
   ]
  },
  {
   "cell_type": "code",
   "execution_count": null,
   "metadata": {},
   "outputs": [],
   "source": []
  }
 ],
 "metadata": {
  "kernelspec": {
   "display_name": "drift",
   "language": "python",
   "name": "python3"
  },
  "language_info": {
   "codemirror_mode": {
    "name": "ipython",
    "version": 3
   },
   "file_extension": ".py",
   "mimetype": "text/x-python",
   "name": "python",
   "nbconvert_exporter": "python",
   "pygments_lexer": "ipython3",
   "version": "3.8.18"
  }
 },
 "nbformat": 4,
 "nbformat_minor": 2
}
