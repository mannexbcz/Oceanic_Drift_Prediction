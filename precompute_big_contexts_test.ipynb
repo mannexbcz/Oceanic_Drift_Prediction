{
 "cells": [
  {
   "cell_type": "code",
   "execution_count": 1,
   "metadata": {},
   "outputs": [],
   "source": [
    "import pickle\n",
    "\n",
    "with open(\"/data/manon/MasterThesis/NOAA/training_files_1000_new.pkl\", \"rb\") as fp:   #Pickling\n",
    "    train_files = pickle.load(fp)\n",
    "with open(\"/data/manon/MasterThesis/NOAA/testing_files_1000_new.pkl\", \"rb\") as fp:   #Pickling\n",
    "    test_files = pickle.load(fp)\n",
    "with open(\"/data/manon/MasterThesis/NOAA/validation_files_1000_new.pkl\", \"rb\") as fp:   #Pickling\n",
    "    val_files = pickle.load(fp)\n",
    "\n",
    "all_files = train_files + test_files + val_files"
   ]
  },
  {
   "cell_type": "code",
   "execution_count": 2,
   "metadata": {},
   "outputs": [],
   "source": [
    "def convert_name_to_config(name):\n",
    "    config_name = 'config_' + name[:-4] + '.yml'\n",
    "    return config_name\n",
    "\n",
    "list_configs = [convert_name_to_config(name) for name in all_files]"
   ]
  },
  {
   "cell_type": "code",
   "execution_count": null,
   "metadata": {},
   "outputs": [],
   "source": [
    "from utils.read_data import water_interpolated, wind_interpolated, wave_interpolated, bathymetry_interpolated\n",
    "import numpy as np\n",
    "\n",
    "\n",
    "def get_water_context(path_water, lat_min, lon_min, time_init, lat_max, lon_max, points_per_degree=100):\n",
    "\n",
    "    water_u_interpolation,water_v_interpolation = water_interpolated(path_water)\n",
    "\n",
    "    npoint_lats = (lat_max-lat_min)*points_per_degree\n",
    "    npoint_lons = (lon_max-lon_min)*points_per_degree\n",
    "\n",
    "    # get grid \n",
    "    lats = np.linspace(lat_min, lat_max, npoint_lats)\n",
    "    lons = np.linspace(lon_min, lon_max, npoint_lons)\n",
    "    \n",
    "    # get tensor of interpolated values\n",
    "    context_water_u = np.zeros([72,npoint_lons, npoint_lats])\n",
    "    context_water_v = np.zeros([72,npoint_lons, npoint_lats])\n",
    "\n",
    "    for i in range(npoint_lons):\n",
    "        for j in range(npoint_lats):\n",
    "            for k in range(72):\n",
    "                context_water_u[k,i,j] = water_u_interpolation([time_init+k,0,lats[j],lons[i]])\n",
    "                context_water_v[k,i,j] = water_v_interpolation([time_init+k,0,lats[j],lons[i]])\n",
    "\n",
    "    return context_water_u, context_water_v\n",
    "\n",
    "def get_wind_context(path_wind, lat_min, lon_min, time_init, lat_max, lon_max, points_per_degree=100):\n",
    "\n",
    "    wind_u_interpolation,wind_v_interpolation = wind_interpolated(path_wind)\n",
    "    \n",
    "    npoint_lats = (lat_max-lat_min)*points_per_degree\n",
    "    npoint_lons = (lon_max-lon_min)*points_per_degree\n",
    "\n",
    "    print(npoint_lats, npoint_lons)\n",
    "\n",
    "    # get grid \n",
    "    lats = np.linspace(lat_min, lat_max, npoint_lats)\n",
    "    lons = np.linspace(lon_min, lon_max, npoint_lons)\n",
    "    \n",
    "    # get tensor of interpolated values\n",
    "    context_wind_u = np.zeros([72,npoint_lons, npoint_lats])\n",
    "    context_wind_v = np.zeros([72,npoint_lons, npoint_lats])\n",
    "    \n",
    "    for i in range(npoint_lons):\n",
    "        for j in range(npoint_lats):\n",
    "            for k in range(72):\n",
    "                context_wind_u[k,i,j] = wind_u_interpolation([time_init+k,lats[j],lons[i]])\n",
    "                context_wind_v[k,i,j] = wind_v_interpolation([time_init+k,lats[j],lons[i]])\n",
    "\n",
    "    return context_wind_u, context_wind_v\n",
    "\n",
    "\n",
    "def get_waves_context(path_waves, lat_min, lon_min, time_init, lat_max, lon_max, points_per_degree=100):\n",
    "\n",
    "    ust_interpolation,vst_interpolation = wave_interpolated(path_waves)\n",
    "    \n",
    "    npoint_lats = (lat_max-lat_min)*points_per_degree\n",
    "    npoint_lons = (lon_max-lon_min)*points_per_degree\n",
    "\n",
    "    # get grid \n",
    "    lats = np.linspace(lat_min, lat_max, npoint_lats)\n",
    "    lons = np.linspace(lon_min, lon_max, npoint_lons)\n",
    "    \n",
    "    # get tensor of interpolated values\n",
    "    context_waves_u = np.zeros([72,npoint_lons, npoint_lats])\n",
    "    context_waves_v = np.zeros([72,npoint_lons, npoint_lats])\n",
    "\n",
    "\n",
    "    for i in range(npoint_lons):\n",
    "        for j in range(npoint_lats):\n",
    "            for k in range(72):\n",
    "                context_waves_u[k,i,j] = ust_interpolation([time_init+k,lats[j],lons[i]])\n",
    "                context_waves_v[k,i,j] = vst_interpolation([time_init+k,lats[j],lons[i]])\n",
    "\n",
    "    return context_waves_u, context_waves_v\n"
   ]
  },
  {
   "cell_type": "code",
   "execution_count": 11,
   "metadata": {},
   "outputs": [],
   "source": [
    "import os\n",
    "\n",
    "def get_context(path_water, path_wind, path_waves,lat_min, lon_min, time_init, lat_max, lon_max, name_file,saving_folder,points_per_degree=100):\n",
    "\n",
    "    path_save = os.path.join(saving_folder,name_file)\n",
    "\n",
    "    '''if os.path.exists(path_save):\n",
    "        return path_save\n",
    "    else:'''\n",
    "    context_water_u, context_water_v = get_water_context(path_water, lat_min, lon_min, time_init, lat_max, lon_max, points_per_degree)\n",
    "    print('context water ok')\n",
    "    context_waves_u, context_waves_v = get_waves_context(path_waves, lat_min, lon_min, time_init, lat_max, lon_max, points_per_degree)\n",
    "    print('context waves ok')\n",
    "    context_wind_u, context_wind_v = get_wind_context(path_wind, lat_min, lon_min, time_init, lat_max, lon_max, points_per_degree)\n",
    "    print('context wind ok')\n",
    "    \n",
    "\n",
    "    #context_bathymetry, context_coasts = get_bathymetry_context(path_bathy, init_lat, init_lon, init_time, d = d_context, npoints = npoints)\n",
    "\n",
    "    # merge contextes\n",
    "    #print('Merging context')\n",
    "    context = np.stack((context_water_u,context_water_v,context_wind_u,context_wind_v,context_waves_u,context_waves_v))\n",
    "    #assert np.shape(context) == (6,npoints,npoints), f\"Wrong shape for the context: {np.shape(context)}\"\n",
    "\n",
    "    print(np.shape(context))\n",
    "\n",
    "    with open(path_save, 'wb') as f:\n",
    "        np.save(f,context)\n",
    "\n",
    "    return path_save"
   ]
  },
  {
   "cell_type": "code",
   "execution_count": 12,
   "metadata": {},
   "outputs": [
    {
     "name": "stderr",
     "output_type": "stream",
     "text": [
      "  0%|          | 0/1000 [00:00<?, ?it/s]"
     ]
    },
    {
     "name": "stdout",
     "output_type": "stream",
     "text": [
      "context water ok\n",
      "context waves ok\n",
      "30 40\n"
     ]
    },
    {
     "name": "stderr",
     "output_type": "stream",
     "text": [
      "  0%|          | 0/1000 [00:36<?, ?it/s]"
     ]
    },
    {
     "name": "stdout",
     "output_type": "stream",
     "text": [
      "context wind ok\n",
      "(6, 72, 40, 30)\n"
     ]
    },
    {
     "name": "stderr",
     "output_type": "stream",
     "text": [
      "\n"
     ]
    }
   ],
   "source": [
    "from tqdm import tqdm\n",
    "import os\n",
    "import yaml\n",
    "from utils.read_data import get_initial_position\n",
    "\n",
    "config_path = '/data/manon/MasterThesis/configs_NOAA/all_configs'\n",
    "saving_path = '/data/manon/MasterThesis/NOAA/bigcontexts'\n",
    "point_per_deg = 10\n",
    "\n",
    "for data_file in tqdm(all_files):\n",
    "    config_name = convert_name_to_config(data_file)\n",
    "    filename = 'context_' + data_file[:-4] + '.npy'\n",
    "    try: \n",
    "        #print('Processing file', data_file)\n",
    "        with open(os.path.join(config_path,config_name), 'r') as f:\n",
    "            config = yaml.safe_load(f)\n",
    "    except:\n",
    "        continue\n",
    "\n",
    "    _, init_time = get_initial_position(config['PATH_DRIFT'], NOAA = True)\n",
    "\n",
    "    final_path = get_context(config['PATH_WATER'],config['PATH_WIND'],config['PATH_WAVES'],config['min_lat'], config['min_lon'],init_time, config['max_lat'], config['max_lon'],filename, saving_path, points_per_degree=point_per_deg)\n",
    "\n",
    "    break"
   ]
  },
  {
   "cell_type": "markdown",
   "metadata": {},
   "source": [
    "## Test reading from big contexts"
   ]
  },
  {
   "cell_type": "code",
   "execution_count": 1,
   "metadata": {},
   "outputs": [],
   "source": [
    "import os \n",
    "import numpy as np\n",
    "import yaml\n",
    "\n",
    "saving_path = '/data/manon/MasterThesis/NOAA/bigcontexts'\n",
    "config_path = '/data/manon/MasterThesis/configs_NOAA/all_configs'\n",
    "\n",
    "files = os.listdir(saving_path)"
   ]
  },
  {
   "cell_type": "code",
   "execution_count": 2,
   "metadata": {},
   "outputs": [
    {
     "data": {
      "text/plain": [
       "'context_traj_37291.npy'"
      ]
     },
     "execution_count": 2,
     "metadata": {},
     "output_type": "execute_result"
    }
   ],
   "source": [
    "files[1]"
   ]
  },
  {
   "cell_type": "code",
   "execution_count": 3,
   "metadata": {},
   "outputs": [],
   "source": [
    "test_file = os.path.join(saving_path, files[1])\n",
    "config_filename = 'config_' + files[1][8:-4] + '.yml'\n",
    "bigcontext = np.load(test_file)\n",
    "\n",
    "with open(os.path.join(config_path,config_filename), 'r') as f:\n",
    "    config = yaml.safe_load(f)"
   ]
  },
  {
   "cell_type": "code",
   "execution_count": 4,
   "metadata": {},
   "outputs": [
    {
     "data": {
      "text/plain": [
       "{'PATH_DRIFT': '/data/manon/MasterThesis/NOAA/trajectories/traj_37291.csv',\n",
       " 'PATH_WATER': '/data/manon/MasterThesis/HYCOM/HYCOM_traj_37291.nc4',\n",
       " 'PATH_WAVES': '/data/manon/MasterThesis/ERA5_Waves/Waves_traj_37291.nc',\n",
       " 'PATH_WIND': '/data/manon/MasterThesis/ERA5_Wind/Wind_traj_37291.nc',\n",
       " 'max_lat': 17,\n",
       " 'max_lon': 141,\n",
       " 'min_lat': 14,\n",
       " 'min_lon': 137}"
      ]
     },
     "execution_count": 4,
     "metadata": {},
     "output_type": "execute_result"
    }
   ],
   "source": [
    "config"
   ]
  },
  {
   "cell_type": "code",
   "execution_count": 3,
   "metadata": {},
   "outputs": [
    {
     "data": {
      "text/plain": [
       "(6, 72, 40, 30)"
      ]
     },
     "execution_count": 3,
     "metadata": {},
     "output_type": "execute_result"
    }
   ],
   "source": [
    "np.shape(bigcontext)"
   ]
  },
  {
   "cell_type": "code",
   "execution_count": 28,
   "metadata": {},
   "outputs": [
    {
     "data": {
      "text/plain": [
       "{'PATH_DRIFT': '/data/manon/MasterThesis/NOAA/trajectories/traj_37291.csv',\n",
       " 'PATH_WATER': '/data/manon/MasterThesis/HYCOM/HYCOM_traj_37291.nc4',\n",
       " 'PATH_WAVES': '/data/manon/MasterThesis/ERA5_Waves/Waves_traj_37291.nc',\n",
       " 'PATH_WIND': '/data/manon/MasterThesis/ERA5_Wind/Wind_traj_37291.nc',\n",
       " 'max_lat': 17,\n",
       " 'max_lon': 141,\n",
       " 'min_lat': 14,\n",
       " 'min_lon': 137}"
      ]
     },
     "execution_count": 28,
     "metadata": {},
     "output_type": "execute_result"
    }
   ],
   "source": [
    "config"
   ]
  },
  {
   "cell_type": "code",
   "execution_count": 6,
   "metadata": {},
   "outputs": [],
   "source": [
    "from utils.read_data import get_initial_position\n",
    "_, init_time = get_initial_position(config['PATH_DRIFT'], NOAA = True)"
   ]
  },
  {
   "cell_type": "code",
   "execution_count": 19,
   "metadata": {},
   "outputs": [],
   "source": [
    "lat_min = config['min_lat']\n",
    "lat_max = config['max_lat']\n",
    "lon_min = config['min_lon']\n",
    "lon_max = config['max_lon']\n",
    "\n",
    "points_per_degree = 10\n",
    "\n",
    "npoint_lats = (lat_max-lat_min)*points_per_degree\n",
    "npoint_lons = (lon_max-lon_min)*points_per_degree\n",
    "\n",
    "# get grid \n",
    "lats_full = np.linspace(lat_min, lat_max, npoint_lats)\n",
    "lons_full = np.linspace(lon_min, lon_max, npoint_lons)\n",
    "time = np.arange(72) + init_time\n",
    "variables = np.arange(6)  # 6 variables"
   ]
  },
  {
   "cell_type": "code",
   "execution_count": 8,
   "metadata": {},
   "outputs": [],
   "source": [
    "bigcontext = np.nan_to_num(bigcontext, nan=0.0)"
   ]
  },
  {
   "cell_type": "code",
   "execution_count": 14,
   "metadata": {},
   "outputs": [
    {
     "data": {
      "text/plain": [
       "(6, 72, 40, 30)"
      ]
     },
     "execution_count": 14,
     "metadata": {},
     "output_type": "execute_result"
    }
   ],
   "source": [
    "bigcontext.shape"
   ]
  },
  {
   "cell_type": "code",
   "execution_count": 18,
   "metadata": {},
   "outputs": [
    {
     "data": {
      "text/plain": [
       "(72,)"
      ]
     },
     "execution_count": 18,
     "metadata": {},
     "output_type": "execute_result"
    }
   ],
   "source": [
    "time.shape"
   ]
  },
  {
   "cell_type": "code",
   "execution_count": null,
   "metadata": {},
   "outputs": [],
   "source": [
    "from scipy.interpolate import RegularGridInterpolator\n",
    "from utils.convert_lats import new_latitude, new_longitude\n",
    "\n",
    "lat_init = 15\n",
    "lon_init= 140\n",
    "d = 50\n",
    "npoints = 32\n",
    "\n",
    "d_m = d*1000 #convert to m\n",
    "lat_max = new_latitude(lat_init, lon_init, d_m / 2)\n",
    "lat_min = new_latitude(lat_init, lon_init, -d_m / 2)\n",
    "lon_max = new_longitude(lat_init, lon_init, d_m / 2)\n",
    "lon_min = new_longitude(lat_init, lon_init, -d_m / 2)\n",
    "\n",
    "# get grid \n",
    "lats = np.linspace(lat_min, lat_max, npoints)\n",
    "lons = np.linspace(lon_min, lon_max, npoints)\n",
    "\n",
    "# Create meshgrid for latitudes and longitudes\n",
    "lon_grid, lat_grid = np.meshgrid(lons, lats)\n",
    "\n",
    "# Prepare the interpolator\n",
    "interpolator = RegularGridInterpolator((variables, time, lons_full, lats_full), bigcontext)\n",
    "\n",
    "# Flatten the spatial grid\n",
    "points_spatial = np.array([lon_grid.ravel(), lat_grid.ravel()]).T\n",
    "n_points = points_spatial.shape[0]\n",
    "\n",
    "time_points = np.full(n_points, init_time)\n",
    "var_points = np.repeat(variables, n_points)\n",
    "lat_lon_repeated = np.tile(points_spatial, (len(variables), 1))\n",
    "\n",
    "# Combine time, spatial, and variable dimensions into a single points array\n",
    "points = np.column_stack((var_points, np.repeat(time_points, len(variables)), lat_lon_repeated))\n",
    "\n",
    "# Interpolate all variables\n",
    "interpolated_values = interpolator(points)\n",
    "\n",
    "# Reshape the results: (npoints, npoints, variables)\n",
    "context = interpolated_values.reshape(len(variables), npoints, npoints) #.transpose(1, 2, 0)\n",
    "\n"
   ]
  },
  {
   "cell_type": "code",
   "execution_count": 32,
   "metadata": {},
   "outputs": [
    {
     "data": {
      "text/plain": [
       "(32, 32, 6)"
      ]
     },
     "execution_count": 32,
     "metadata": {},
     "output_type": "execute_result"
    }
   ],
   "source": [
    "context.shape"
   ]
  },
  {
   "cell_type": "markdown",
   "metadata": {},
   "source": [
    "# Creating CSV Files for datasets"
   ]
  },
  {
   "cell_type": "code",
   "execution_count": 63,
   "metadata": {},
   "outputs": [],
   "source": [
    "from data_processing.dataset import DriftPairDataset, DriftPairDataset_Wo_Computation\n",
    "import pandas as pd\n",
    "\n",
    "csvfile_train = '/data/manon/MasterThesis/NOAA/nextpoint_ds/contexts/pt32d50/next_point_dataset_val_new.csv'\n",
    "df = pd.read_csv(csvfile_train)"
   ]
  },
  {
   "cell_type": "code",
   "execution_count": 64,
   "metadata": {},
   "outputs": [
    {
     "data": {
      "text/html": [
       "<div>\n",
       "<style scoped>\n",
       "    .dataframe tbody tr th:only-of-type {\n",
       "        vertical-align: middle;\n",
       "    }\n",
       "\n",
       "    .dataframe tbody tr th {\n",
       "        vertical-align: top;\n",
       "    }\n",
       "\n",
       "    .dataframe thead th {\n",
       "        text-align: right;\n",
       "    }\n",
       "</style>\n",
       "<table border=\"1\" class=\"dataframe\">\n",
       "  <thead>\n",
       "    <tr style=\"text-align: right;\">\n",
       "      <th></th>\n",
       "      <th>Unnamed: 0</th>\n",
       "      <th>Latitude_init</th>\n",
       "      <th>Longitude_init</th>\n",
       "      <th>time_init</th>\n",
       "      <th>Latitude_final</th>\n",
       "      <th>Longitude_final</th>\n",
       "      <th>Lat_phys</th>\n",
       "      <th>Lon_phys</th>\n",
       "      <th>PATH_CONTEXT</th>\n",
       "      <th>name</th>\n",
       "    </tr>\n",
       "  </thead>\n",
       "  <tbody>\n",
       "    <tr>\n",
       "      <th>0</th>\n",
       "      <td>502</td>\n",
       "      <td>-28.38180</td>\n",
       "      <td>53.71343</td>\n",
       "      <td>68849.0</td>\n",
       "      <td>-28.36065</td>\n",
       "      <td>53.71698</td>\n",
       "      <td>-28.367020</td>\n",
       "      <td>53.717979</td>\n",
       "      <td>/data/manon/MasterThesis/NOAA/nextpoint_ds/con...</td>\n",
       "      <td>traj_63898.csv</td>\n",
       "    </tr>\n",
       "    <tr>\n",
       "      <th>1</th>\n",
       "      <td>503</td>\n",
       "      <td>-28.41421</td>\n",
       "      <td>53.71144</td>\n",
       "      <td>68848.0</td>\n",
       "      <td>-28.38180</td>\n",
       "      <td>53.71343</td>\n",
       "      <td>-28.400036</td>\n",
       "      <td>53.718109</td>\n",
       "      <td>/data/manon/MasterThesis/NOAA/nextpoint_ds/con...</td>\n",
       "      <td>traj_63898.csv</td>\n",
       "    </tr>\n",
       "    <tr>\n",
       "      <th>2</th>\n",
       "      <td>504</td>\n",
       "      <td>-28.44377</td>\n",
       "      <td>53.72484</td>\n",
       "      <td>68847.0</td>\n",
       "      <td>-28.41421</td>\n",
       "      <td>53.71144</td>\n",
       "      <td>-28.430346</td>\n",
       "      <td>53.733463</td>\n",
       "      <td>/data/manon/MasterThesis/NOAA/nextpoint_ds/con...</td>\n",
       "      <td>traj_63898.csv</td>\n",
       "    </tr>\n",
       "    <tr>\n",
       "      <th>3</th>\n",
       "      <td>505</td>\n",
       "      <td>-28.46642</td>\n",
       "      <td>53.70544</td>\n",
       "      <td>68846.0</td>\n",
       "      <td>-28.44377</td>\n",
       "      <td>53.72484</td>\n",
       "      <td>-28.453428</td>\n",
       "      <td>53.715549</td>\n",
       "      <td>/data/manon/MasterThesis/NOAA/nextpoint_ds/con...</td>\n",
       "      <td>traj_63898.csv</td>\n",
       "    </tr>\n",
       "    <tr>\n",
       "      <th>4</th>\n",
       "      <td>506</td>\n",
       "      <td>-28.49400</td>\n",
       "      <td>53.70222</td>\n",
       "      <td>68845.0</td>\n",
       "      <td>-28.46642</td>\n",
       "      <td>53.70544</td>\n",
       "      <td>-28.482584</td>\n",
       "      <td>53.713055</td>\n",
       "      <td>/data/manon/MasterThesis/NOAA/nextpoint_ds/con...</td>\n",
       "      <td>traj_63898.csv</td>\n",
       "    </tr>\n",
       "  </tbody>\n",
       "</table>\n",
       "</div>"
      ],
      "text/plain": [
       "   Unnamed: 0  Latitude_init  Longitude_init  time_init  Latitude_final  \\\n",
       "0         502      -28.38180        53.71343    68849.0       -28.36065   \n",
       "1         503      -28.41421        53.71144    68848.0       -28.38180   \n",
       "2         504      -28.44377        53.72484    68847.0       -28.41421   \n",
       "3         505      -28.46642        53.70544    68846.0       -28.44377   \n",
       "4         506      -28.49400        53.70222    68845.0       -28.46642   \n",
       "\n",
       "   Longitude_final   Lat_phys   Lon_phys  \\\n",
       "0         53.71698 -28.367020  53.717979   \n",
       "1         53.71343 -28.400036  53.718109   \n",
       "2         53.71144 -28.430346  53.733463   \n",
       "3         53.72484 -28.453428  53.715549   \n",
       "4         53.70544 -28.482584  53.713055   \n",
       "\n",
       "                                        PATH_CONTEXT            name  \n",
       "0  /data/manon/MasterThesis/NOAA/nextpoint_ds/con...  traj_63898.csv  \n",
       "1  /data/manon/MasterThesis/NOAA/nextpoint_ds/con...  traj_63898.csv  \n",
       "2  /data/manon/MasterThesis/NOAA/nextpoint_ds/con...  traj_63898.csv  \n",
       "3  /data/manon/MasterThesis/NOAA/nextpoint_ds/con...  traj_63898.csv  \n",
       "4  /data/manon/MasterThesis/NOAA/nextpoint_ds/con...  traj_63898.csv  "
      ]
     },
     "execution_count": 64,
     "metadata": {},
     "output_type": "execute_result"
    }
   ],
   "source": [
    "df.head()"
   ]
  },
  {
   "cell_type": "code",
   "execution_count": 65,
   "metadata": {},
   "outputs": [],
   "source": [
    "def get_config_name(name):\n",
    "    config_name = 'config_' + name[:-4] + '.yml'\n",
    "    fullpath = '/data/manon/MasterThesis/configs_NOAA/all_configs/' + config_name\n",
    "    return fullpath\n",
    "\n",
    "df['CONFIG_PATH'] = df['name'].apply(lambda x: get_config_name(x))"
   ]
  },
  {
   "cell_type": "code",
   "execution_count": 66,
   "metadata": {},
   "outputs": [],
   "source": [
    "import os\n",
    "saving_path = '/data/manon/MasterThesis/NOAA/bigcontexts'\n",
    "\n",
    "def get_bigcontext_name(name):\n",
    "    contextname = saving_path + '/context_' + name[:-4] + '.npy'\n",
    "    if os.path.exists(contextname):\n",
    "        return contextname\n",
    "    else:\n",
    "        return None\n",
    "\n",
    "df['PATH_BIG_CONTEXT'] = df['name'].apply(lambda x: get_bigcontext_name(x))"
   ]
  },
  {
   "cell_type": "code",
   "execution_count": 67,
   "metadata": {},
   "outputs": [
    {
     "data": {
      "text/plain": [
       "Unnamed: 0          False\n",
       "Latitude_init       False\n",
       "Longitude_init      False\n",
       "time_init           False\n",
       "Latitude_final      False\n",
       "Longitude_final     False\n",
       "Lat_phys            False\n",
       "Lon_phys            False\n",
       "PATH_CONTEXT        False\n",
       "name                False\n",
       "CONFIG_PATH         False\n",
       "PATH_BIG_CONTEXT    False\n",
       "dtype: bool"
      ]
     },
     "execution_count": 67,
     "metadata": {},
     "output_type": "execute_result"
    }
   ],
   "source": [
    "df.isnull().all()"
   ]
  },
  {
   "cell_type": "code",
   "execution_count": 68,
   "metadata": {},
   "outputs": [],
   "source": [
    "from utils.read_data import get_initial_position\n",
    "import yaml\n",
    "\n",
    "def get_init_time(path_context):\n",
    "    with open(path_context, 'r') as f:\n",
    "        config = yaml.safe_load(f)\n",
    "    _, init_time = get_initial_position(config['PATH_DRIFT'], NOAA = True)\n",
    "    return init_time\n",
    "\n",
    "df['init_time_bigcontext'] = df['CONFIG_PATH'].apply(lambda x: get_init_time(x))"
   ]
  },
  {
   "cell_type": "code",
   "execution_count": 69,
   "metadata": {},
   "outputs": [
    {
     "data": {
      "text/html": [
       "<div>\n",
       "<style scoped>\n",
       "    .dataframe tbody tr th:only-of-type {\n",
       "        vertical-align: middle;\n",
       "    }\n",
       "\n",
       "    .dataframe tbody tr th {\n",
       "        vertical-align: top;\n",
       "    }\n",
       "\n",
       "    .dataframe thead th {\n",
       "        text-align: right;\n",
       "    }\n",
       "</style>\n",
       "<table border=\"1\" class=\"dataframe\">\n",
       "  <thead>\n",
       "    <tr style=\"text-align: right;\">\n",
       "      <th></th>\n",
       "      <th>Unnamed: 0</th>\n",
       "      <th>Latitude_init</th>\n",
       "      <th>Longitude_init</th>\n",
       "      <th>time_init</th>\n",
       "      <th>Latitude_final</th>\n",
       "      <th>Longitude_final</th>\n",
       "      <th>Lat_phys</th>\n",
       "      <th>Lon_phys</th>\n",
       "      <th>PATH_CONTEXT</th>\n",
       "      <th>name</th>\n",
       "      <th>CONFIG_PATH</th>\n",
       "      <th>PATH_BIG_CONTEXT</th>\n",
       "      <th>init_time_bigcontext</th>\n",
       "    </tr>\n",
       "  </thead>\n",
       "  <tbody>\n",
       "    <tr>\n",
       "      <th>0</th>\n",
       "      <td>502</td>\n",
       "      <td>-28.38180</td>\n",
       "      <td>53.71343</td>\n",
       "      <td>68849.0</td>\n",
       "      <td>-28.36065</td>\n",
       "      <td>53.71698</td>\n",
       "      <td>-28.367020</td>\n",
       "      <td>53.717979</td>\n",
       "      <td>/data/manon/MasterThesis/NOAA/nextpoint_ds/con...</td>\n",
       "      <td>traj_63898.csv</td>\n",
       "      <td>/data/manon/MasterThesis/configs_NOAA/all_conf...</td>\n",
       "      <td>/data/manon/MasterThesis/NOAA/bigcontexts/cont...</td>\n",
       "      <td>68778.0</td>\n",
       "    </tr>\n",
       "    <tr>\n",
       "      <th>1</th>\n",
       "      <td>503</td>\n",
       "      <td>-28.41421</td>\n",
       "      <td>53.71144</td>\n",
       "      <td>68848.0</td>\n",
       "      <td>-28.38180</td>\n",
       "      <td>53.71343</td>\n",
       "      <td>-28.400036</td>\n",
       "      <td>53.718109</td>\n",
       "      <td>/data/manon/MasterThesis/NOAA/nextpoint_ds/con...</td>\n",
       "      <td>traj_63898.csv</td>\n",
       "      <td>/data/manon/MasterThesis/configs_NOAA/all_conf...</td>\n",
       "      <td>/data/manon/MasterThesis/NOAA/bigcontexts/cont...</td>\n",
       "      <td>68778.0</td>\n",
       "    </tr>\n",
       "    <tr>\n",
       "      <th>2</th>\n",
       "      <td>504</td>\n",
       "      <td>-28.44377</td>\n",
       "      <td>53.72484</td>\n",
       "      <td>68847.0</td>\n",
       "      <td>-28.41421</td>\n",
       "      <td>53.71144</td>\n",
       "      <td>-28.430346</td>\n",
       "      <td>53.733463</td>\n",
       "      <td>/data/manon/MasterThesis/NOAA/nextpoint_ds/con...</td>\n",
       "      <td>traj_63898.csv</td>\n",
       "      <td>/data/manon/MasterThesis/configs_NOAA/all_conf...</td>\n",
       "      <td>/data/manon/MasterThesis/NOAA/bigcontexts/cont...</td>\n",
       "      <td>68778.0</td>\n",
       "    </tr>\n",
       "    <tr>\n",
       "      <th>3</th>\n",
       "      <td>505</td>\n",
       "      <td>-28.46642</td>\n",
       "      <td>53.70544</td>\n",
       "      <td>68846.0</td>\n",
       "      <td>-28.44377</td>\n",
       "      <td>53.72484</td>\n",
       "      <td>-28.453428</td>\n",
       "      <td>53.715549</td>\n",
       "      <td>/data/manon/MasterThesis/NOAA/nextpoint_ds/con...</td>\n",
       "      <td>traj_63898.csv</td>\n",
       "      <td>/data/manon/MasterThesis/configs_NOAA/all_conf...</td>\n",
       "      <td>/data/manon/MasterThesis/NOAA/bigcontexts/cont...</td>\n",
       "      <td>68778.0</td>\n",
       "    </tr>\n",
       "    <tr>\n",
       "      <th>4</th>\n",
       "      <td>506</td>\n",
       "      <td>-28.49400</td>\n",
       "      <td>53.70222</td>\n",
       "      <td>68845.0</td>\n",
       "      <td>-28.46642</td>\n",
       "      <td>53.70544</td>\n",
       "      <td>-28.482584</td>\n",
       "      <td>53.713055</td>\n",
       "      <td>/data/manon/MasterThesis/NOAA/nextpoint_ds/con...</td>\n",
       "      <td>traj_63898.csv</td>\n",
       "      <td>/data/manon/MasterThesis/configs_NOAA/all_conf...</td>\n",
       "      <td>/data/manon/MasterThesis/NOAA/bigcontexts/cont...</td>\n",
       "      <td>68778.0</td>\n",
       "    </tr>\n",
       "  </tbody>\n",
       "</table>\n",
       "</div>"
      ],
      "text/plain": [
       "   Unnamed: 0  Latitude_init  Longitude_init  time_init  Latitude_final  \\\n",
       "0         502      -28.38180        53.71343    68849.0       -28.36065   \n",
       "1         503      -28.41421        53.71144    68848.0       -28.38180   \n",
       "2         504      -28.44377        53.72484    68847.0       -28.41421   \n",
       "3         505      -28.46642        53.70544    68846.0       -28.44377   \n",
       "4         506      -28.49400        53.70222    68845.0       -28.46642   \n",
       "\n",
       "   Longitude_final   Lat_phys   Lon_phys  \\\n",
       "0         53.71698 -28.367020  53.717979   \n",
       "1         53.71343 -28.400036  53.718109   \n",
       "2         53.71144 -28.430346  53.733463   \n",
       "3         53.72484 -28.453428  53.715549   \n",
       "4         53.70544 -28.482584  53.713055   \n",
       "\n",
       "                                        PATH_CONTEXT            name  \\\n",
       "0  /data/manon/MasterThesis/NOAA/nextpoint_ds/con...  traj_63898.csv   \n",
       "1  /data/manon/MasterThesis/NOAA/nextpoint_ds/con...  traj_63898.csv   \n",
       "2  /data/manon/MasterThesis/NOAA/nextpoint_ds/con...  traj_63898.csv   \n",
       "3  /data/manon/MasterThesis/NOAA/nextpoint_ds/con...  traj_63898.csv   \n",
       "4  /data/manon/MasterThesis/NOAA/nextpoint_ds/con...  traj_63898.csv   \n",
       "\n",
       "                                         CONFIG_PATH  \\\n",
       "0  /data/manon/MasterThesis/configs_NOAA/all_conf...   \n",
       "1  /data/manon/MasterThesis/configs_NOAA/all_conf...   \n",
       "2  /data/manon/MasterThesis/configs_NOAA/all_conf...   \n",
       "3  /data/manon/MasterThesis/configs_NOAA/all_conf...   \n",
       "4  /data/manon/MasterThesis/configs_NOAA/all_conf...   \n",
       "\n",
       "                                    PATH_BIG_CONTEXT  init_time_bigcontext  \n",
       "0  /data/manon/MasterThesis/NOAA/bigcontexts/cont...               68778.0  \n",
       "1  /data/manon/MasterThesis/NOAA/bigcontexts/cont...               68778.0  \n",
       "2  /data/manon/MasterThesis/NOAA/bigcontexts/cont...               68778.0  \n",
       "3  /data/manon/MasterThesis/NOAA/bigcontexts/cont...               68778.0  \n",
       "4  /data/manon/MasterThesis/NOAA/bigcontexts/cont...               68778.0  "
      ]
     },
     "execution_count": 69,
     "metadata": {},
     "output_type": "execute_result"
    }
   ],
   "source": [
    "df.head()"
   ]
  },
  {
   "cell_type": "code",
   "execution_count": 70,
   "metadata": {},
   "outputs": [],
   "source": [
    "df['PREVIOUS_PATH_CONTEXT'] = df['PATH_CONTEXT'].shift(-1)\n",
    "df['Latitude_prev'] = df['Latitude_init'].shift(-1)\n",
    "df['Longitude_prev'] = df['Longitude_init'].shift(-1)"
   ]
  },
  {
   "cell_type": "code",
   "execution_count": 71,
   "metadata": {},
   "outputs": [],
   "source": [
    "condition = (df['Latitude_final'].shift(-1)==df['Latitude_init']) & (df['Longitude_final'].shift(-1)==df['Longitude_init']) \n",
    "df_previous = df.where(condition)"
   ]
  },
  {
   "cell_type": "code",
   "execution_count": 72,
   "metadata": {},
   "outputs": [],
   "source": [
    "df_previous = df_previous.dropna()"
   ]
  },
  {
   "cell_type": "code",
   "execution_count": 73,
   "metadata": {},
   "outputs": [
    {
     "data": {
      "text/html": [
       "<div>\n",
       "<style scoped>\n",
       "    .dataframe tbody tr th:only-of-type {\n",
       "        vertical-align: middle;\n",
       "    }\n",
       "\n",
       "    .dataframe tbody tr th {\n",
       "        vertical-align: top;\n",
       "    }\n",
       "\n",
       "    .dataframe thead th {\n",
       "        text-align: right;\n",
       "    }\n",
       "</style>\n",
       "<table border=\"1\" class=\"dataframe\">\n",
       "  <thead>\n",
       "    <tr style=\"text-align: right;\">\n",
       "      <th></th>\n",
       "      <th>Unnamed: 0</th>\n",
       "      <th>Latitude_init</th>\n",
       "      <th>Longitude_init</th>\n",
       "      <th>time_init</th>\n",
       "      <th>Latitude_final</th>\n",
       "      <th>Longitude_final</th>\n",
       "      <th>Lat_phys</th>\n",
       "      <th>Lon_phys</th>\n",
       "      <th>PATH_CONTEXT</th>\n",
       "      <th>name</th>\n",
       "      <th>CONFIG_PATH</th>\n",
       "      <th>PATH_BIG_CONTEXT</th>\n",
       "      <th>init_time_bigcontext</th>\n",
       "      <th>PREVIOUS_PATH_CONTEXT</th>\n",
       "      <th>Latitude_prev</th>\n",
       "      <th>Longitude_prev</th>\n",
       "    </tr>\n",
       "  </thead>\n",
       "  <tbody>\n",
       "    <tr>\n",
       "      <th>0</th>\n",
       "      <td>502.0</td>\n",
       "      <td>-28.38180</td>\n",
       "      <td>53.71343</td>\n",
       "      <td>68849.0</td>\n",
       "      <td>-28.36065</td>\n",
       "      <td>53.71698</td>\n",
       "      <td>-28.367020</td>\n",
       "      <td>53.717979</td>\n",
       "      <td>/data/manon/MasterThesis/NOAA/nextpoint_ds/con...</td>\n",
       "      <td>traj_63898.csv</td>\n",
       "      <td>/data/manon/MasterThesis/configs_NOAA/all_conf...</td>\n",
       "      <td>/data/manon/MasterThesis/NOAA/bigcontexts/cont...</td>\n",
       "      <td>68778.0</td>\n",
       "      <td>/data/manon/MasterThesis/NOAA/nextpoint_ds/con...</td>\n",
       "      <td>-28.41421</td>\n",
       "      <td>53.71144</td>\n",
       "    </tr>\n",
       "    <tr>\n",
       "      <th>1</th>\n",
       "      <td>503.0</td>\n",
       "      <td>-28.41421</td>\n",
       "      <td>53.71144</td>\n",
       "      <td>68848.0</td>\n",
       "      <td>-28.38180</td>\n",
       "      <td>53.71343</td>\n",
       "      <td>-28.400036</td>\n",
       "      <td>53.718109</td>\n",
       "      <td>/data/manon/MasterThesis/NOAA/nextpoint_ds/con...</td>\n",
       "      <td>traj_63898.csv</td>\n",
       "      <td>/data/manon/MasterThesis/configs_NOAA/all_conf...</td>\n",
       "      <td>/data/manon/MasterThesis/NOAA/bigcontexts/cont...</td>\n",
       "      <td>68778.0</td>\n",
       "      <td>/data/manon/MasterThesis/NOAA/nextpoint_ds/con...</td>\n",
       "      <td>-28.44377</td>\n",
       "      <td>53.72484</td>\n",
       "    </tr>\n",
       "    <tr>\n",
       "      <th>2</th>\n",
       "      <td>504.0</td>\n",
       "      <td>-28.44377</td>\n",
       "      <td>53.72484</td>\n",
       "      <td>68847.0</td>\n",
       "      <td>-28.41421</td>\n",
       "      <td>53.71144</td>\n",
       "      <td>-28.430346</td>\n",
       "      <td>53.733463</td>\n",
       "      <td>/data/manon/MasterThesis/NOAA/nextpoint_ds/con...</td>\n",
       "      <td>traj_63898.csv</td>\n",
       "      <td>/data/manon/MasterThesis/configs_NOAA/all_conf...</td>\n",
       "      <td>/data/manon/MasterThesis/NOAA/bigcontexts/cont...</td>\n",
       "      <td>68778.0</td>\n",
       "      <td>/data/manon/MasterThesis/NOAA/nextpoint_ds/con...</td>\n",
       "      <td>-28.46642</td>\n",
       "      <td>53.70544</td>\n",
       "    </tr>\n",
       "    <tr>\n",
       "      <th>3</th>\n",
       "      <td>505.0</td>\n",
       "      <td>-28.46642</td>\n",
       "      <td>53.70544</td>\n",
       "      <td>68846.0</td>\n",
       "      <td>-28.44377</td>\n",
       "      <td>53.72484</td>\n",
       "      <td>-28.453428</td>\n",
       "      <td>53.715549</td>\n",
       "      <td>/data/manon/MasterThesis/NOAA/nextpoint_ds/con...</td>\n",
       "      <td>traj_63898.csv</td>\n",
       "      <td>/data/manon/MasterThesis/configs_NOAA/all_conf...</td>\n",
       "      <td>/data/manon/MasterThesis/NOAA/bigcontexts/cont...</td>\n",
       "      <td>68778.0</td>\n",
       "      <td>/data/manon/MasterThesis/NOAA/nextpoint_ds/con...</td>\n",
       "      <td>-28.49400</td>\n",
       "      <td>53.70222</td>\n",
       "    </tr>\n",
       "    <tr>\n",
       "      <th>4</th>\n",
       "      <td>506.0</td>\n",
       "      <td>-28.49400</td>\n",
       "      <td>53.70222</td>\n",
       "      <td>68845.0</td>\n",
       "      <td>-28.46642</td>\n",
       "      <td>53.70544</td>\n",
       "      <td>-28.482584</td>\n",
       "      <td>53.713055</td>\n",
       "      <td>/data/manon/MasterThesis/NOAA/nextpoint_ds/con...</td>\n",
       "      <td>traj_63898.csv</td>\n",
       "      <td>/data/manon/MasterThesis/configs_NOAA/all_conf...</td>\n",
       "      <td>/data/manon/MasterThesis/NOAA/bigcontexts/cont...</td>\n",
       "      <td>68778.0</td>\n",
       "      <td>/data/manon/MasterThesis/NOAA/nextpoint_ds/con...</td>\n",
       "      <td>-28.52174</td>\n",
       "      <td>53.70157</td>\n",
       "    </tr>\n",
       "  </tbody>\n",
       "</table>\n",
       "</div>"
      ],
      "text/plain": [
       "   Unnamed: 0  Latitude_init  Longitude_init  time_init  Latitude_final  \\\n",
       "0       502.0      -28.38180        53.71343    68849.0       -28.36065   \n",
       "1       503.0      -28.41421        53.71144    68848.0       -28.38180   \n",
       "2       504.0      -28.44377        53.72484    68847.0       -28.41421   \n",
       "3       505.0      -28.46642        53.70544    68846.0       -28.44377   \n",
       "4       506.0      -28.49400        53.70222    68845.0       -28.46642   \n",
       "\n",
       "   Longitude_final   Lat_phys   Lon_phys  \\\n",
       "0         53.71698 -28.367020  53.717979   \n",
       "1         53.71343 -28.400036  53.718109   \n",
       "2         53.71144 -28.430346  53.733463   \n",
       "3         53.72484 -28.453428  53.715549   \n",
       "4         53.70544 -28.482584  53.713055   \n",
       "\n",
       "                                        PATH_CONTEXT            name  \\\n",
       "0  /data/manon/MasterThesis/NOAA/nextpoint_ds/con...  traj_63898.csv   \n",
       "1  /data/manon/MasterThesis/NOAA/nextpoint_ds/con...  traj_63898.csv   \n",
       "2  /data/manon/MasterThesis/NOAA/nextpoint_ds/con...  traj_63898.csv   \n",
       "3  /data/manon/MasterThesis/NOAA/nextpoint_ds/con...  traj_63898.csv   \n",
       "4  /data/manon/MasterThesis/NOAA/nextpoint_ds/con...  traj_63898.csv   \n",
       "\n",
       "                                         CONFIG_PATH  \\\n",
       "0  /data/manon/MasterThesis/configs_NOAA/all_conf...   \n",
       "1  /data/manon/MasterThesis/configs_NOAA/all_conf...   \n",
       "2  /data/manon/MasterThesis/configs_NOAA/all_conf...   \n",
       "3  /data/manon/MasterThesis/configs_NOAA/all_conf...   \n",
       "4  /data/manon/MasterThesis/configs_NOAA/all_conf...   \n",
       "\n",
       "                                    PATH_BIG_CONTEXT  init_time_bigcontext  \\\n",
       "0  /data/manon/MasterThesis/NOAA/bigcontexts/cont...               68778.0   \n",
       "1  /data/manon/MasterThesis/NOAA/bigcontexts/cont...               68778.0   \n",
       "2  /data/manon/MasterThesis/NOAA/bigcontexts/cont...               68778.0   \n",
       "3  /data/manon/MasterThesis/NOAA/bigcontexts/cont...               68778.0   \n",
       "4  /data/manon/MasterThesis/NOAA/bigcontexts/cont...               68778.0   \n",
       "\n",
       "                               PREVIOUS_PATH_CONTEXT  Latitude_prev  \\\n",
       "0  /data/manon/MasterThesis/NOAA/nextpoint_ds/con...      -28.41421   \n",
       "1  /data/manon/MasterThesis/NOAA/nextpoint_ds/con...      -28.44377   \n",
       "2  /data/manon/MasterThesis/NOAA/nextpoint_ds/con...      -28.46642   \n",
       "3  /data/manon/MasterThesis/NOAA/nextpoint_ds/con...      -28.49400   \n",
       "4  /data/manon/MasterThesis/NOAA/nextpoint_ds/con...      -28.52174   \n",
       "\n",
       "   Longitude_prev  \n",
       "0        53.71144  \n",
       "1        53.72484  \n",
       "2        53.70544  \n",
       "3        53.70222  \n",
       "4        53.70157  "
      ]
     },
     "execution_count": 73,
     "metadata": {},
     "output_type": "execute_result"
    }
   ],
   "source": [
    "df_previous.head()"
   ]
  },
  {
   "cell_type": "code",
   "execution_count": 74,
   "metadata": {},
   "outputs": [],
   "source": [
    "df_previous['lat1'] = df_previous['Latitude_init'].shift(1)\n",
    "df_previous['lon1'] = df_previous['Longitude_init'].shift(1)\n",
    "df_previous['lat2'] = df_previous['Latitude_init'].shift(2)\n",
    "df_previous['lon2'] = df_previous['Longitude_init'].shift(2)\n",
    "df_previous['lat3'] = df_previous['Latitude_init'].shift(3)\n",
    "df_previous['lon3'] = df_previous['Longitude_init'].shift(3)\n",
    "df_previous['name3'] = df_previous['name'].shift(3)\n",
    "\n",
    "condition = (df_previous['name'].shift(-1)==df_previous['name3'])\n",
    "df_previous_ok = df_previous.where(condition)\n",
    "df_previous_ok = df_previous_ok.dropna()"
   ]
  },
  {
   "cell_type": "code",
   "execution_count": 75,
   "metadata": {},
   "outputs": [
    {
     "data": {
      "text/html": [
       "<div>\n",
       "<style scoped>\n",
       "    .dataframe tbody tr th:only-of-type {\n",
       "        vertical-align: middle;\n",
       "    }\n",
       "\n",
       "    .dataframe tbody tr th {\n",
       "        vertical-align: top;\n",
       "    }\n",
       "\n",
       "    .dataframe thead th {\n",
       "        text-align: right;\n",
       "    }\n",
       "</style>\n",
       "<table border=\"1\" class=\"dataframe\">\n",
       "  <thead>\n",
       "    <tr style=\"text-align: right;\">\n",
       "      <th></th>\n",
       "      <th>Unnamed: 0</th>\n",
       "      <th>Latitude_init</th>\n",
       "      <th>Longitude_init</th>\n",
       "      <th>time_init</th>\n",
       "      <th>Latitude_final</th>\n",
       "      <th>Longitude_final</th>\n",
       "      <th>Lat_phys</th>\n",
       "      <th>Lon_phys</th>\n",
       "      <th>PATH_CONTEXT</th>\n",
       "      <th>name</th>\n",
       "      <th>...</th>\n",
       "      <th>PREVIOUS_PATH_CONTEXT</th>\n",
       "      <th>Latitude_prev</th>\n",
       "      <th>Longitude_prev</th>\n",
       "      <th>lat1</th>\n",
       "      <th>lon1</th>\n",
       "      <th>lat2</th>\n",
       "      <th>lon2</th>\n",
       "      <th>lat3</th>\n",
       "      <th>lon3</th>\n",
       "      <th>name3</th>\n",
       "    </tr>\n",
       "  </thead>\n",
       "  <tbody>\n",
       "    <tr>\n",
       "      <th>3</th>\n",
       "      <td>505.0</td>\n",
       "      <td>-28.46642</td>\n",
       "      <td>53.70544</td>\n",
       "      <td>68846.0</td>\n",
       "      <td>-28.44377</td>\n",
       "      <td>53.72484</td>\n",
       "      <td>-28.453428</td>\n",
       "      <td>53.715549</td>\n",
       "      <td>/data/manon/MasterThesis/NOAA/nextpoint_ds/con...</td>\n",
       "      <td>traj_63898.csv</td>\n",
       "      <td>...</td>\n",
       "      <td>/data/manon/MasterThesis/NOAA/nextpoint_ds/con...</td>\n",
       "      <td>-28.49400</td>\n",
       "      <td>53.70222</td>\n",
       "      <td>-28.44377</td>\n",
       "      <td>53.72484</td>\n",
       "      <td>-28.41421</td>\n",
       "      <td>53.71144</td>\n",
       "      <td>-28.38180</td>\n",
       "      <td>53.71343</td>\n",
       "      <td>traj_63898.csv</td>\n",
       "    </tr>\n",
       "    <tr>\n",
       "      <th>4</th>\n",
       "      <td>506.0</td>\n",
       "      <td>-28.49400</td>\n",
       "      <td>53.70222</td>\n",
       "      <td>68845.0</td>\n",
       "      <td>-28.46642</td>\n",
       "      <td>53.70544</td>\n",
       "      <td>-28.482584</td>\n",
       "      <td>53.713055</td>\n",
       "      <td>/data/manon/MasterThesis/NOAA/nextpoint_ds/con...</td>\n",
       "      <td>traj_63898.csv</td>\n",
       "      <td>...</td>\n",
       "      <td>/data/manon/MasterThesis/NOAA/nextpoint_ds/con...</td>\n",
       "      <td>-28.52174</td>\n",
       "      <td>53.70157</td>\n",
       "      <td>-28.46642</td>\n",
       "      <td>53.70544</td>\n",
       "      <td>-28.44377</td>\n",
       "      <td>53.72484</td>\n",
       "      <td>-28.41421</td>\n",
       "      <td>53.71144</td>\n",
       "      <td>traj_63898.csv</td>\n",
       "    </tr>\n",
       "    <tr>\n",
       "      <th>5</th>\n",
       "      <td>507.0</td>\n",
       "      <td>-28.52174</td>\n",
       "      <td>53.70157</td>\n",
       "      <td>68844.0</td>\n",
       "      <td>-28.49400</td>\n",
       "      <td>53.70222</td>\n",
       "      <td>-28.511827</td>\n",
       "      <td>53.713295</td>\n",
       "      <td>/data/manon/MasterThesis/NOAA/nextpoint_ds/con...</td>\n",
       "      <td>traj_63898.csv</td>\n",
       "      <td>...</td>\n",
       "      <td>/data/manon/MasterThesis/NOAA/nextpoint_ds/con...</td>\n",
       "      <td>-28.54795</td>\n",
       "      <td>53.69397</td>\n",
       "      <td>-28.49400</td>\n",
       "      <td>53.70222</td>\n",
       "      <td>-28.46642</td>\n",
       "      <td>53.70544</td>\n",
       "      <td>-28.44377</td>\n",
       "      <td>53.72484</td>\n",
       "      <td>traj_63898.csv</td>\n",
       "    </tr>\n",
       "    <tr>\n",
       "      <th>6</th>\n",
       "      <td>508.0</td>\n",
       "      <td>-28.54795</td>\n",
       "      <td>53.69397</td>\n",
       "      <td>68843.0</td>\n",
       "      <td>-28.52174</td>\n",
       "      <td>53.70157</td>\n",
       "      <td>-28.539038</td>\n",
       "      <td>53.705891</td>\n",
       "      <td>/data/manon/MasterThesis/NOAA/nextpoint_ds/con...</td>\n",
       "      <td>traj_63898.csv</td>\n",
       "      <td>...</td>\n",
       "      <td>/data/manon/MasterThesis/NOAA/nextpoint_ds/con...</td>\n",
       "      <td>-28.57424</td>\n",
       "      <td>53.68682</td>\n",
       "      <td>-28.52174</td>\n",
       "      <td>53.70157</td>\n",
       "      <td>-28.49400</td>\n",
       "      <td>53.70222</td>\n",
       "      <td>-28.46642</td>\n",
       "      <td>53.70544</td>\n",
       "      <td>traj_63898.csv</td>\n",
       "    </tr>\n",
       "    <tr>\n",
       "      <th>7</th>\n",
       "      <td>509.0</td>\n",
       "      <td>-28.57424</td>\n",
       "      <td>53.68682</td>\n",
       "      <td>68842.0</td>\n",
       "      <td>-28.54795</td>\n",
       "      <td>53.69397</td>\n",
       "      <td>-28.566320</td>\n",
       "      <td>53.697876</td>\n",
       "      <td>/data/manon/MasterThesis/NOAA/nextpoint_ds/con...</td>\n",
       "      <td>traj_63898.csv</td>\n",
       "      <td>...</td>\n",
       "      <td>/data/manon/MasterThesis/NOAA/nextpoint_ds/con...</td>\n",
       "      <td>-28.59682</td>\n",
       "      <td>53.68177</td>\n",
       "      <td>-28.54795</td>\n",
       "      <td>53.69397</td>\n",
       "      <td>-28.52174</td>\n",
       "      <td>53.70157</td>\n",
       "      <td>-28.49400</td>\n",
       "      <td>53.70222</td>\n",
       "      <td>traj_63898.csv</td>\n",
       "    </tr>\n",
       "  </tbody>\n",
       "</table>\n",
       "<p>5 rows × 23 columns</p>\n",
       "</div>"
      ],
      "text/plain": [
       "   Unnamed: 0  Latitude_init  Longitude_init  time_init  Latitude_final  \\\n",
       "3       505.0      -28.46642        53.70544    68846.0       -28.44377   \n",
       "4       506.0      -28.49400        53.70222    68845.0       -28.46642   \n",
       "5       507.0      -28.52174        53.70157    68844.0       -28.49400   \n",
       "6       508.0      -28.54795        53.69397    68843.0       -28.52174   \n",
       "7       509.0      -28.57424        53.68682    68842.0       -28.54795   \n",
       "\n",
       "   Longitude_final   Lat_phys   Lon_phys  \\\n",
       "3         53.72484 -28.453428  53.715549   \n",
       "4         53.70544 -28.482584  53.713055   \n",
       "5         53.70222 -28.511827  53.713295   \n",
       "6         53.70157 -28.539038  53.705891   \n",
       "7         53.69397 -28.566320  53.697876   \n",
       "\n",
       "                                        PATH_CONTEXT            name  ...  \\\n",
       "3  /data/manon/MasterThesis/NOAA/nextpoint_ds/con...  traj_63898.csv  ...   \n",
       "4  /data/manon/MasterThesis/NOAA/nextpoint_ds/con...  traj_63898.csv  ...   \n",
       "5  /data/manon/MasterThesis/NOAA/nextpoint_ds/con...  traj_63898.csv  ...   \n",
       "6  /data/manon/MasterThesis/NOAA/nextpoint_ds/con...  traj_63898.csv  ...   \n",
       "7  /data/manon/MasterThesis/NOAA/nextpoint_ds/con...  traj_63898.csv  ...   \n",
       "\n",
       "                               PREVIOUS_PATH_CONTEXT Latitude_prev  \\\n",
       "3  /data/manon/MasterThesis/NOAA/nextpoint_ds/con...     -28.49400   \n",
       "4  /data/manon/MasterThesis/NOAA/nextpoint_ds/con...     -28.52174   \n",
       "5  /data/manon/MasterThesis/NOAA/nextpoint_ds/con...     -28.54795   \n",
       "6  /data/manon/MasterThesis/NOAA/nextpoint_ds/con...     -28.57424   \n",
       "7  /data/manon/MasterThesis/NOAA/nextpoint_ds/con...     -28.59682   \n",
       "\n",
       "   Longitude_prev      lat1      lon1      lat2      lon2      lat3      lon3  \\\n",
       "3        53.70222 -28.44377  53.72484 -28.41421  53.71144 -28.38180  53.71343   \n",
       "4        53.70157 -28.46642  53.70544 -28.44377  53.72484 -28.41421  53.71144   \n",
       "5        53.69397 -28.49400  53.70222 -28.46642  53.70544 -28.44377  53.72484   \n",
       "6        53.68682 -28.52174  53.70157 -28.49400  53.70222 -28.46642  53.70544   \n",
       "7        53.68177 -28.54795  53.69397 -28.52174  53.70157 -28.49400  53.70222   \n",
       "\n",
       "            name3  \n",
       "3  traj_63898.csv  \n",
       "4  traj_63898.csv  \n",
       "5  traj_63898.csv  \n",
       "6  traj_63898.csv  \n",
       "7  traj_63898.csv  \n",
       "\n",
       "[5 rows x 23 columns]"
      ]
     },
     "execution_count": 75,
     "metadata": {},
     "output_type": "execute_result"
    }
   ],
   "source": [
    "df_previous_ok.head()"
   ]
  },
  {
   "cell_type": "code",
   "execution_count": 76,
   "metadata": {},
   "outputs": [
    {
     "data": {
      "text/plain": [
       "9710"
      ]
     },
     "execution_count": 76,
     "metadata": {},
     "output_type": "execute_result"
    }
   ],
   "source": [
    "len(df_previous_ok)"
   ]
  },
  {
   "cell_type": "code",
   "execution_count": 77,
   "metadata": {},
   "outputs": [],
   "source": [
    "saving_path = '/data/manon/MasterThesis/NOAA/nextpoint_ds/contexts/pt32d50/next_point_dataset_val_all_models.csv'\n",
    "df_previous_ok.to_csv(saving_path)"
   ]
  },
  {
   "cell_type": "markdown",
   "metadata": {},
   "source": [
    "### Check incorrect times"
   ]
  },
  {
   "cell_type": "code",
   "execution_count": 33,
   "metadata": {},
   "outputs": [],
   "source": [
    "import pandas as pd\n",
    "csvfile_train = '/data/manon/MasterThesis/NOAA/nextpoint_ds/contexts/pt32d50/next_point_dataset_train_all_models.csv'\n",
    "df = pd.read_csv(csvfile_train)"
   ]
  },
  {
   "cell_type": "code",
   "execution_count": 34,
   "metadata": {},
   "outputs": [],
   "source": [
    "def check_time(row):\n",
    "    diff = row['time_init'] - row['init_time_bigcontext']\n",
    "    if diff < 72:\n",
    "        return True\n",
    "    else:\n",
    "        return None\n",
    "\n",
    "df['OK'] = df.apply(lambda row: check_time(row), axis=1)"
   ]
  },
  {
   "cell_type": "code",
   "execution_count": 35,
   "metadata": {},
   "outputs": [],
   "source": [
    "df_ok = df.dropna()"
   ]
  },
  {
   "cell_type": "code",
   "execution_count": 36,
   "metadata": {},
   "outputs": [
    {
     "name": "stdout",
     "output_type": "stream",
     "text": [
      "34860\n",
      "34515\n"
     ]
    }
   ],
   "source": [
    "print(len(df))\n",
    "print(len(df_ok))"
   ]
  },
  {
   "cell_type": "code",
   "execution_count": 37,
   "metadata": {},
   "outputs": [
    {
     "data": {
      "text/plain": [
       "Unnamed: 0.1               0\n",
       "Unnamed: 0                 0\n",
       "Latitude_init              0\n",
       "Longitude_init             0\n",
       "time_init                  0\n",
       "Latitude_final             0\n",
       "Longitude_final            0\n",
       "Lat_phys                   0\n",
       "Lon_phys                   0\n",
       "PATH_CONTEXT               0\n",
       "name                       0\n",
       "CONFIG_PATH                0\n",
       "PATH_BIG_CONTEXT           0\n",
       "init_time_bigcontext       0\n",
       "PREVIOUS_PATH_CONTEXT      0\n",
       "Latitude_prev              0\n",
       "Longitude_prev             0\n",
       "lat1                       0\n",
       "lon1                       0\n",
       "lat2                       0\n",
       "lon2                       0\n",
       "lat3                       0\n",
       "lon3                       0\n",
       "name3                      0\n",
       "OK                       345\n",
       "dtype: int64"
      ]
     },
     "execution_count": 37,
     "metadata": {},
     "output_type": "execute_result"
    }
   ],
   "source": [
    "df.isna().sum()"
   ]
  },
  {
   "cell_type": "code",
   "execution_count": 38,
   "metadata": {},
   "outputs": [],
   "source": [
    "df_ok=df_ok.drop(columns=['OK', 'name3', 'Unnamed: 0', 'Unnamed: 0.1'])"
   ]
  },
  {
   "cell_type": "code",
   "execution_count": 39,
   "metadata": {},
   "outputs": [],
   "source": [
    "saving_path = '/data/manon/MasterThesis/NOAA/nextpoint_ds/contexts/pt32d50/next_point_dataset_train_all_models.csv'\n",
    "df_ok.to_csv(saving_path)"
   ]
  }
 ],
 "metadata": {
  "kernelspec": {
   "display_name": "drift",
   "language": "python",
   "name": "python3"
  },
  "language_info": {
   "codemirror_mode": {
    "name": "ipython",
    "version": 3
   },
   "file_extension": ".py",
   "mimetype": "text/x-python",
   "name": "python",
   "nbconvert_exporter": "python",
   "pygments_lexer": "ipython3",
   "version": "3.8.18"
  }
 },
 "nbformat": 4,
 "nbformat_minor": 2
}
