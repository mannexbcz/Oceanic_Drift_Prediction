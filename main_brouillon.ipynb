{
 "cells": [
  {
   "cell_type": "code",
   "execution_count": 1,
   "metadata": {},
   "outputs": [],
   "source": [
    "import yaml\n",
    "import netCDF4 as nc\n",
    "import numpy as np\n",
    "from utils.read_data import *\n"
   ]
  },
  {
   "cell_type": "code",
   "execution_count": 2,
   "metadata": {},
   "outputs": [],
   "source": [
    "with open('configs/trace_093.yml', 'r') as f:\n",
    "    config = yaml.safe_load(f)"
   ]
  },
  {
   "cell_type": "code",
   "execution_count": 3,
   "metadata": {},
   "outputs": [],
   "source": [
    "from utils.read_data import *\n",
    "\n",
    "pos_1, pos_2, time1,time2 = get_initial_positions(config['PATH_DRIFT']) #, pos_2, time_1, time_2"
   ]
  },
  {
   "cell_type": "code",
   "execution_count": 20,
   "metadata": {},
   "outputs": [],
   "source": [
    "from utils.read_data import convert_hours_1900_2000\n",
    "\n",
    "from scipy.interpolate import RegularGridInterpolator\n",
    "\n"
   ]
  },
  {
   "cell_type": "code",
   "execution_count": 4,
   "metadata": {},
   "outputs": [],
   "source": [
    "u10_interpolation, v10_interpolation = wind_interpolated(config['PATH_WIND'])"
   ]
  },
  {
   "cell_type": "code",
   "execution_count": 5,
   "metadata": {},
   "outputs": [
    {
     "data": {
      "text/plain": [
       "array([1.45492215])"
      ]
     },
     "execution_count": 5,
     "metadata": {},
     "output_type": "execute_result"
    }
   ],
   "source": [
    "u10_interpolation([138844.3,49.1,-70.23])"
   ]
  },
  {
   "cell_type": "code",
   "execution_count": 5,
   "metadata": {},
   "outputs": [],
   "source": [
    "water_u_interpolation, water_v_interpolation = water_interpolated(config['PATH_WATER'])"
   ]
  },
  {
   "cell_type": "code",
   "execution_count": 7,
   "metadata": {},
   "outputs": [
    {
     "data": {
      "text/plain": [
       "array([-0.15481025])"
      ]
     },
     "execution_count": 7,
     "metadata": {},
     "output_type": "execute_result"
    }
   ],
   "source": [
    "water_u_interpolation([138844.3,0,49.1,-60.23])"
   ]
  },
  {
   "cell_type": "code",
   "execution_count": 6,
   "metadata": {},
   "outputs": [],
   "source": [
    "from utils.param_alpha import get_alpha\n",
    "\n",
    "alpha = get_alpha(pos_1, pos_2, time1,time2,water_u_interpolation, water_v_interpolation,u10_interpolation, v10_interpolation)"
   ]
  },
  {
   "cell_type": "code",
   "execution_count": 7,
   "metadata": {},
   "outputs": [
    {
     "data": {
      "text/plain": [
       "[-0.0907177128408892, -0.028410609262742362]"
      ]
     },
     "execution_count": 7,
     "metadata": {},
     "output_type": "execute_result"
    }
   ],
   "source": [
    "alpha"
   ]
  },
  {
   "cell_type": "code",
   "execution_count": 8,
   "metadata": {},
   "outputs": [
    {
     "data": {
      "text/plain": [
       "scipy.interpolate._rgi.RegularGridInterpolator"
      ]
     },
     "execution_count": 8,
     "metadata": {},
     "output_type": "execute_result"
    }
   ],
   "source": [
    "type(water_u_interpolation)"
   ]
  },
  {
   "cell_type": "code",
   "execution_count": 7,
   "metadata": {},
   "outputs": [],
   "source": [
    "from models.linear_model import u_drift_linear\n",
    "\n",
    "u_drift = u_drift_linear(alpha,u10_interpolation, v10_interpolation,water_u_interpolation, water_v_interpolation)\n",
    "\n",
    "u,v = u_drift(138844.3,-60.23,49.1)"
   ]
  },
  {
   "cell_type": "code",
   "execution_count": 8,
   "metadata": {},
   "outputs": [
    {
     "data": {
      "text/plain": [
       "numpy.ndarray"
      ]
     },
     "execution_count": 8,
     "metadata": {},
     "output_type": "execute_result"
    }
   ],
   "source": [
    "U = u_drift(138844.3,-60.23,49.1)\n",
    "type(U)"
   ]
  },
  {
   "cell_type": "code",
   "execution_count": 9,
   "metadata": {},
   "outputs": [
    {
     "name": "stdout",
     "output_type": "stream",
     "text": [
      "[ 0.00965455 -0.00589091] [ 0.02285735 -0.00660682] [ 0.02300359 -0.00688559] [ 0.035801   -0.00916984]\n"
     ]
    }
   ],
   "source": [
    "from utils.RK4 import RK4_step, compute_position\n",
    "\n",
    "pos_new, time_new = RK4_step(u_drift, pos_1, time1, 1)"
   ]
  },
  {
   "cell_type": "code",
   "execution_count": 10,
   "metadata": {},
   "outputs": [
    {
     "data": {
      "text/plain": [
       "array([-59.9011471 ,  48.01158241])"
      ]
     },
     "execution_count": 10,
     "metadata": {},
     "output_type": "execute_result"
    }
   ],
   "source": [
    "pos_new"
   ]
  },
  {
   "cell_type": "code",
   "execution_count": 11,
   "metadata": {},
   "outputs": [
    {
     "name": "stdout",
     "output_type": "stream",
     "text": [
      "[ 0.00965455 -0.00589091] [ 0.02285735 -0.00660682] [ 0.02300359 -0.00688559] [ 0.035801   -0.00916984]\n",
      "[ 0.0357951  -0.00921837] [ 0.05689979 -0.01011978] [ 0.05577443 -0.01150413] [ 0.07003221 -0.01726093]\n",
      "[ 0.07008671 -0.01722582] [ 0.0610786  -0.03877247] [ 0.05694577 -0.04313589] [ 0.04094972 -0.07395175]\n",
      "[ 0.04099764 -0.07400506] [ 0.02823926 -0.10765139] [ 0.028435   -0.11240259] [ 0.03542088 -0.13930139]\n",
      "[ 0.03455789 -0.14002068] [ 0.0581072  -0.14166866] [ 0.06053885 -0.14744277] [ 0.04199822 -0.13850655]\n",
      "[ 0.04228211 -0.13465235] [-0.05289439 -0.11609296] [-0.06591258 -0.08192651] [-0.11385899 -0.04453349]\n",
      "[-0.11849355 -0.04882068] [-0.12933571 -0.01960908] [-0.12851287 -0.01376368] [-0.12642793  0.00491104]\n",
      "[-0.12609234  0.00397891] [-0.15171289 -0.00280713] [-0.14693129 -0.00757668] [-0.16861259 -0.04511693]\n",
      "[-0.16705949 -0.04562422] [-0.14430692 -0.08263067] [-0.14102097 -0.08002172] [-0.09141015 -0.10159874]\n",
      "[-0.09449639 -0.10116264] [-0.00917371 -0.13371318] [-0.02900341 -0.12970954] [ 0.07297603 -0.17620968]\n"
     ]
    }
   ],
   "source": [
    "longitudes, latitudes, time_final = compute_position(u_drift, pos_1, time1,1, 10)"
   ]
  },
  {
   "cell_type": "code",
   "execution_count": 12,
   "metadata": {},
   "outputs": [
    {
     "data": {
      "text/plain": [
       "array([-59.92401   , -59.9011471 , -59.84595114, -59.78810361,\n",
       "       -59.75647577, -59.70416773, -59.75569953, -59.88246931,\n",
       "       -60.03113486, -60.16932243, -60.18563486])"
      ]
     },
     "execution_count": 12,
     "metadata": {},
     "output_type": "execute_result"
    }
   ],
   "source": [
    "longitudes"
   ]
  },
  {
   "cell_type": "code",
   "execution_count": 13,
   "metadata": {},
   "outputs": [
    {
     "data": {
      "text/plain": [
       "array([48.01859   , 48.01158241, 47.99996122, 47.95746217, 47.84855977,\n",
       "       47.70576809, 47.60989729, 47.59145477, 47.58113716, 47.50238253,\n",
       "       47.36834624])"
      ]
     },
     "execution_count": 13,
     "metadata": {},
     "output_type": "execute_result"
    }
   ],
   "source": [
    "latitudes"
   ]
  },
  {
   "cell_type": "code",
   "execution_count": null,
   "metadata": {},
   "outputs": [],
   "source": []
  }
 ],
 "metadata": {
  "kernelspec": {
   "display_name": "drift",
   "language": "python",
   "name": "python3"
  },
  "language_info": {
   "codemirror_mode": {
    "name": "ipython",
    "version": 3
   },
   "file_extension": ".py",
   "mimetype": "text/x-python",
   "name": "python",
   "nbconvert_exporter": "python",
   "pygments_lexer": "ipython3",
   "version": "3.8.18"
  },
  "orig_nbformat": 4
 },
 "nbformat": 4,
 "nbformat_minor": 2
}
