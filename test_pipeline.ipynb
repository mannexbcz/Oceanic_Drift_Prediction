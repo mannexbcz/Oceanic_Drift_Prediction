{
 "cells": [
  {
   "cell_type": "code",
   "execution_count": 1,
   "metadata": {},
   "outputs": [],
   "source": [
    "import torch\n",
    "import numpy as np\n",
    "import pandas as pd\n",
    "\n",
    "from data_processing.dataset import DriftPairDataset\n",
    "from models.physical_model import physical_model"
   ]
  },
  {
   "cell_type": "code",
   "execution_count": 2,
   "metadata": {},
   "outputs": [],
   "source": [
    "csv_file = '../data/nextpoint_ds/next_point_dataset.csv'\n"
   ]
  },
  {
   "cell_type": "code",
   "execution_count": 3,
   "metadata": {},
   "outputs": [],
   "source": [
    "dataset = DriftPairDataset(csv_file)"
   ]
  },
  {
   "cell_type": "code",
   "execution_count": 4,
   "metadata": {},
   "outputs": [],
   "source": [
    "init_position, final_position, init_time, context, dict_path = dataset[10]"
   ]
  },
  {
   "cell_type": "code",
   "execution_count": 5,
   "metadata": {},
   "outputs": [
    {
     "data": {
      "text/plain": [
       "tensor([[ 47.2436],\n",
       "        [-59.0445]], dtype=torch.float64)"
      ]
     },
     "execution_count": 5,
     "metadata": {},
     "output_type": "execute_result"
    }
   ],
   "source": [
    "init_position"
   ]
  },
  {
   "cell_type": "code",
   "execution_count": 6,
   "metadata": {},
   "outputs": [
    {
     "data": {
      "text/plain": [
       "tensor([[ 47.2409],\n",
       "        [-59.0357]], dtype=torch.float64)"
      ]
     },
     "execution_count": 6,
     "metadata": {},
     "output_type": "execute_result"
    }
   ],
   "source": [
    "final_position"
   ]
  },
  {
   "cell_type": "code",
   "execution_count": 7,
   "metadata": {},
   "outputs": [
    {
     "ename": "NameError",
     "evalue": "name 'u_drift_linear_matrix' is not defined",
     "output_type": "error",
     "traceback": [
      "\u001b[1;31m---------------------------------------------------------------------------\u001b[0m",
      "\u001b[1;31mNameError\u001b[0m                                 Traceback (most recent call last)",
      "\u001b[1;32mc:\\Users\\manon\\Desktop\\Thesis\\code\\test_pipeline.ipynb Cell 7\u001b[0m line \u001b[0;36m1\n\u001b[1;32m----> <a href='vscode-notebook-cell:/c%3A/Users/manon/Desktop/Thesis/code/test_pipeline.ipynb#X20sZmlsZQ%3D%3D?line=0'>1</a>\u001b[0m physical_position \u001b[39m=\u001b[39m physical_model(init_position, init_time, dict_path)\n\u001b[0;32m      <a href='vscode-notebook-cell:/c%3A/Users/manon/Desktop/Thesis/code/test_pipeline.ipynb#X20sZmlsZQ%3D%3D?line=1'>2</a>\u001b[0m physical_position\n",
      "File \u001b[1;32mc:\\Users\\manon\\Desktop\\Thesis\\code\\models\\physical_model.py:21\u001b[0m, in \u001b[0;36mphysical_model\u001b[1;34m(init_pos, time_init, dict_path)\u001b[0m\n\u001b[0;32m     18\u001b[0m alpha \u001b[39m=\u001b[39m general_alpha()\n\u001b[0;32m     20\u001b[0m \u001b[39m# Drift velocity\u001b[39;00m\n\u001b[1;32m---> 21\u001b[0m u_drift \u001b[39m=\u001b[39m u_drift_linear_matrix(alpha, u10_interpolation, v10_interpolation,water_u_interpolation,water_v_interpolation)\n\u001b[0;32m     23\u001b[0m \u001b[39m# Update position --> position at t+1h\u001b[39;00m\n\u001b[0;32m     24\u001b[0m longitudes, latitudes, _ \u001b[39m=\u001b[39m compute_position(u_drift, init_pos, time_init,\u001b[39m1\u001b[39m,\u001b[39m1\u001b[39m) \u001b[39m# make only one time step of 1h \u001b[39;00m\n",
      "\u001b[1;31mNameError\u001b[0m: name 'u_drift_linear_matrix' is not defined"
     ]
    }
   ],
   "source": [
    "physical_position = physical_model(init_position, init_time, dict_path)\n",
    "physical_position"
   ]
  },
  {
   "cell_type": "code",
   "execution_count": 11,
   "metadata": {},
   "outputs": [
    {
     "data": {
      "text/plain": [
       "tensor([[-0.0167, -0.0167, -0.0166,  ..., -0.0164, -0.0164, -0.0164],\n",
       "        [-0.0167, -0.0166, -0.0166,  ..., -0.0164, -0.0164, -0.0164],\n",
       "        [-0.0166, -0.0166, -0.0166,  ..., -0.0164, -0.0164, -0.0164],\n",
       "        ...,\n",
       "        [-0.0164, -0.0164, -0.0164,  ..., -0.0161, -0.0161, -0.0161],\n",
       "        [-0.0164, -0.0164, -0.0164,  ..., -0.0161, -0.0161, -0.0161],\n",
       "        [-0.0164, -0.0164, -0.0163,  ..., -0.0161, -0.0161, -0.0161]],\n",
       "       dtype=torch.float64)"
      ]
     },
     "execution_count": 11,
     "metadata": {},
     "output_type": "execute_result"
    }
   ],
   "source": [
    "test = context[:,:,5]\n",
    "test"
   ]
  },
  {
   "cell_type": "code",
   "execution_count": 12,
   "metadata": {},
   "outputs": [
    {
     "data": {
      "text/plain": [
       "torch.Size([32, 32, 8])"
      ]
     },
     "execution_count": 12,
     "metadata": {},
     "output_type": "execute_result"
    }
   ],
   "source": [
    "context.size()"
   ]
  },
  {
   "cell_type": "markdown",
   "metadata": {},
   "source": [
    "Draft for Dataloader + Pipeline"
   ]
  },
  {
   "cell_type": "code",
   "execution_count": 13,
   "metadata": {},
   "outputs": [
    {
     "ename": "NameError",
     "evalue": "name 'DataLoader' is not defined",
     "output_type": "error",
     "traceback": [
      "\u001b[1;31m---------------------------------------------------------------------------\u001b[0m",
      "\u001b[1;31mNameError\u001b[0m                                 Traceback (most recent call last)",
      "\u001b[1;32mc:\\Users\\manon\\Desktop\\Thesis\\code\\test_pipeline.ipynb Cell 12\u001b[0m line \u001b[0;36m1\n\u001b[1;32m----> <a href='vscode-notebook-cell:/c%3A/Users/manon/Desktop/Thesis/code/test_pipeline.ipynb#X13sZmlsZQ%3D%3D?line=0'>1</a>\u001b[0m dataloader \u001b[39m=\u001b[39m DataLoader(dataset, batch_size\u001b[39m=\u001b[39m\u001b[39m2\u001b[39m, shuffle \u001b[39m=\u001b[39m \u001b[39mTrue\u001b[39;00m)\n",
      "\u001b[1;31mNameError\u001b[0m: name 'DataLoader' is not defined"
     ]
    }
   ],
   "source": [
    "dataloader = DataLoader(dataset, batch_size=2, shuffle = True)\n",
    "for (idx, batch) in enumerate(dataloader):\n",
    "    # do something\n"
   ]
  }
 ],
 "metadata": {
  "kernelspec": {
   "display_name": "drift",
   "language": "python",
   "name": "python3"
  },
  "language_info": {
   "codemirror_mode": {
    "name": "ipython",
    "version": 3
   },
   "file_extension": ".py",
   "mimetype": "text/x-python",
   "name": "python",
   "nbconvert_exporter": "python",
   "pygments_lexer": "ipython3",
   "version": "3.8.18"
  }
 },
 "nbformat": 4,
 "nbformat_minor": 2
}
