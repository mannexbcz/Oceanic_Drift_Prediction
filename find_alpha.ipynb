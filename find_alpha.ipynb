{
 "cells": [
  {
   "cell_type": "code",
   "execution_count": null,
   "metadata": {},
   "outputs": [],
   "source": [
    "import os\n",
    "import pandas as pd\n",
    "from utils.param_alpha import get_alpha\n",
    "\n",
    "# This is the path where all the files are stored.\n",
    "FOLDER_PATH = '../data/Dumont-etal_2019/datasets'\n",
    "\n",
    "# Open one of the files,\n",
    "for data_file in os.listdir(FOLDER_PATH):\n",
    "    data_file = os.path.join(FOLDER_PATH, data_file)\n",
    "    drift_tab = pd.read_csv(data_file,sep='\\t',skiprows=13)\n",
    "\n",
    "    # creating variable for latitude and longitude to list\n",
    "    lat = drift_tab['Latitude'].tolist()\n",
    "    lon = drift_tab['Longitude'].tolist()\n",
    "\n",
    "    true_lon, true_lat, true_time = get_true_drift_positions(config['PATH_DRIFT'])\n",
    "\n",
    "    # Get interpolated initial data\n",
    "    u10_interpolation, v10_interpolation = wind_interpolated(config['PATH_WIND'])\n",
    "    water_u_interpolation, water_v_interpolation = water_interpolated(config['PATH_WATER'])\n",
    "\n",
    "    # Compute alpha\n",
    "    #alpha = get_alpha(true_lat,true_lon,true_time,water_u_interpolation, water_v_interpolation,u10_interpolation, v10_interpolation)\n",
    "\n",
    "\n",
    "\n",
    "\n"
   ]
  }
 ],
 "metadata": {
  "language_info": {
   "name": "python"
  },
  "orig_nbformat": 4
 },
 "nbformat": 4,
 "nbformat_minor": 2
}
