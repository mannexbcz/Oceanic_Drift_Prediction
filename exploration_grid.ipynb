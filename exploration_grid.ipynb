{
 "cells": [
  {
   "cell_type": "code",
   "execution_count": 1,
   "metadata": {},
   "outputs": [],
   "source": [
    "import netCDF4 as nc\n",
    "\n",
    "PATH_ERA5_NC = '../data/ERA5_Wind/WindData.nc'\n",
    "PATH_HYCOM = '../data/HYCOM/data_2014.nc4'\n",
    "\n",
    "ds_water = nc.Dataset(PATH_HYCOM)\n",
    "ds_wind = nc.Dataset(PATH_ERA5_NC)\n"
   ]
  },
  {
   "cell_type": "code",
   "execution_count": 2,
   "metadata": {},
   "outputs": [],
   "source": [
    "lon_wind = ds_wind.variables['longitude']\n",
    "lon_wind = lon_wind[:].data\n",
    "lat_wind = ds_wind.variables['latitude']\n",
    "lat_wind = lat_wind[:].data\n",
    "\n",
    "lon_water = ds_water.variables['lon']\n",
    "lon_water = lon_water[:].data\n",
    "lat_water = ds_water.variables['lat']\n",
    "lat_water = lat_water[:].data"
   ]
  },
  {
   "cell_type": "code",
   "execution_count": 3,
   "metadata": {},
   "outputs": [
    {
     "name": "stdout",
     "output_type": "stream",
     "text": [
      "85\n",
      "33\n",
      "263\n",
      "201\n"
     ]
    }
   ],
   "source": [
    "print(len(lon_wind))\n",
    "print(len(lat_wind))\n",
    "print(len(lon_water))\n",
    "print(len(lat_water))"
   ]
  },
  {
   "cell_type": "code",
   "execution_count": 7,
   "metadata": {},
   "outputs": [
    {
     "data": {
      "image/png": "[encoded data removed]",
      "text/plain": [
       "<Figure size 640x480 with 1 Axes>"
      ]
     },
     "metadata": {},
     "output_type": "display_data"
    }
   ],
   "source": [
    "import numpy as np\n",
    "import matplotlib.pyplot as plt\n",
    "import itertools\n",
    "\n",
    "gridx_wind,gridy_wind = np.meshgrid(lon_wind,lat_wind)\n",
    "gridx_water,gridy_water = np.meshgrid(lon_water,lat_water)\n",
    "\n",
    "plt.plot(gridx_water, gridy_water, marker='.', color='b', linestyle='None')\n",
    "plt.plot(gridx_wind, gridy_wind, marker='.', color='r', linestyle='None')\n",
    "\n",
    "\n",
    "plt.show()"
   ]
  },
  {
   "cell_type": "code",
   "execution_count": 10,
   "metadata": {},
   "outputs": [
    {
     "name": "stdout",
     "output_type": "stream",
     "text": [
      "Lon 11\n",
      "Lat 9\n"
     ]
    }
   ],
   "source": [
    "# Test if the grid points in the wind grid are also in the water grid or not\n",
    "mask = np.isin(lon_wind, lon_water)\n",
    "print('Lon', mask.sum())\n",
    "mask = np.isin(lat_wind, lat_water)\n",
    "print('Lat', mask.sum())"
   ]
  },
  {
   "cell_type": "code",
   "execution_count": 9,
   "metadata": {},
   "outputs": [
    {
     "data": {
      "text/plain": [
       "array([ True, False, False, False, False, False, False, False,  True,\n",
       "       False, False, False, False, False, False, False,  True, False,\n",
       "       False, False, False, False, False, False,  True, False, False,\n",
       "       False, False, False, False, False,  True, False, False, False,\n",
       "       False, False, False, False,  True, False, False, False, False,\n",
       "       False, False, False,  True, False, False, False, False, False,\n",
       "       False, False,  True, False, False, False, False, False, False,\n",
       "       False,  True, False, False, False, False, False, False, False,\n",
       "        True, False, False, False, False, False, False, False,  True,\n",
       "       False, False, False, False])"
      ]
     },
     "execution_count": 9,
     "metadata": {},
     "output_type": "execute_result"
    }
   ],
   "source": []
  },
  {
   "cell_type": "code",
   "execution_count": null,
   "metadata": {},
   "outputs": [],
   "source": []
  }
 ],
 "metadata": {
  "kernelspec": {
   "display_name": "drift",
   "language": "python",
   "name": "python3"
  },
  "language_info": {
   "codemirror_mode": {
    "name": "ipython",
    "version": 3
   },
   "file_extension": ".py",
   "mimetype": "text/x-python",
   "name": "python",
   "nbconvert_exporter": "python",
   "pygments_lexer": "ipython3",
   "version": "3.8.18"
  },
  "orig_nbformat": 4
 },
 "nbformat": 4,
 "nbformat_minor": 2
}
